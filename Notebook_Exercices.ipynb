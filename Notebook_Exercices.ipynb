{
 "cells": [
  {
   "cell_type": "code",
   "execution_count": 2,
   "metadata": {},
   "outputs": [
    {
     "name": "stdout",
     "output_type": "stream",
     "text": [
      "28\n",
      "40\n"
     ]
    }
   ],
   "source": [
    "class Rectangle:\n",
    "    def __init__(self,long,larg):\n",
    "        self.longueur=long\n",
    "        self.largeur=larg\n",
    "  \n",
    "    def Perimetre(self):\n",
    "        return 2*self.longueur + 2*self.largeur\n",
    "    def Surface(self):\n",
    "        return self.longueur * self.largeur\n",
    "    def get_longueur(self):\n",
    "        return self.longueur\n",
    "    def get_largeur(self):\n",
    "        return self.largeur\n",
    "    def set_longueur(self):\n",
    "        self.longeur = 1\n",
    "    def set_largeur(self):\n",
    "        self.largeur = 1\n",
    "        \n",
    "MyRect = Rectangle(10,4)\n",
    "print(MyRect.Perimetre())\n",
    "print(MyRect.Surface())\n",
    "#print(MyRect.get_longeur())        \n",
    "#MyRect.set_longeur(8)\n",
    "#print(MyRect.get_longeur())\n",
    "\n",
    "        \n",
    "        "
   ]
  },
  {
   "cell_type": "code",
   "execution_count": 4,
   "metadata": {},
   "outputs": [
    {
     "data": {
      "text/plain": [
       "9048"
      ]
     },
     "execution_count": 4,
     "metadata": {},
     "output_type": "execute_result"
    }
   ],
   "source": [
    "class Parallelepipede(Rectangle):\n",
    "    def __init__(self,long,larg,haut):\n",
    "        Rectangle.__init__(self,long,larg)\n",
    "        self.hauteur = haut\n",
    "    def Volume(self):\n",
    "        return self.hauteur * self.largeur * self.longueur\n",
    "\n",
    "myPara = Parallelepipede(12,13,58)\n",
    "myPara.Volume()"
   ]
  },
  {
   "cell_type": "code",
   "execution_count": null,
   "metadata": {},
   "outputs": [],
   "source": []
  }
 ],
 "metadata": {
  "kernelspec": {
   "display_name": "Python 3",
   "language": "python",
   "name": "python3"
  },
  "language_info": {
   "codemirror_mode": {
    "name": "ipython",
    "version": 3
   },
   "file_extension": ".py",
   "mimetype": "text/x-python",
   "name": "python",
   "nbconvert_exporter": "python",
   "pygments_lexer": "ipython3",
   "version": "3.8.3"
  }
 },
 "nbformat": 4,
 "nbformat_minor": 4
}
